{
 "cells": [
  {
   "cell_type": "code",
   "execution_count": 3,
   "metadata": {
    "collapsed": false
   },
   "outputs": [],
   "source": [
    "from __future__ import print_function\n",
    "import numpy as np\n",
    "import math\n",
    "import matplotlib.pyplot as plt"
   ]
  },
  {
   "cell_type": "code",
   "execution_count": 45,
   "metadata": {
    "collapsed": false
   },
   "outputs": [
    {
     "name": "stdout",
     "output_type": "stream",
     "text": [
      "[ -88.  379. -291.]\n",
      "[   0.          389.08225351 -291.        ]\n",
      "[  0.00000000e+00   4.85866237e+02   2.84217094e-14]\n"
     ]
    }
   ],
   "source": [
    "calibrationMatrix = np.array([[51,518,-152],\n",
    "                              [226,530,-63],\n",
    "                              [104,537,150],\n",
    "                              [-60,527,87]])\n",
    "\n",
    "centered_calibrationVector = np.average(calibrationMatrix, axis=1).reshape((4,1))\n",
    "\n",
    "calibrationMatrix = calibrationMatrix - centered_calibrationVector\n",
    "\n",
    "\n",
    "pN = calibrationMatrix[0]\n",
    "pE = calibrationMatrix[1]\n",
    "pS = calibrationMatrix[2]\n",
    "pW = calibrationMatrix[3]\n",
    "\n",
    "#print(pN, pE, pS, pW)\n",
    "\n",
    "def findPhi_z(pointVector):\n",
    "    \n",
    "    for n in (0, 1):\n",
    "        phi = n*math.pi-math.atan(-pointVector[0]/pointVector[1]) #n*pi-atan(-x/y)\n",
    "        test_y = np.matmul(getZrotationMatrix(phi), pointVector)[1]\n",
    "        if (round(test_y) >= 0):\n",
    "            return phi\n",
    "        else:\n",
    "            return phi+math.pi\n",
    "\n",
    "def findPhi_x(pointVector):\n",
    "    \n",
    "    for n in (0, 1):\n",
    "        phi = n*math.pi-math.atan(pointVector[2]/pointVector[1]) #n*pi-atan(-x/y)\n",
    "        test_y = np.matmul(getXrotationMatrix(phi), pointVector)[1]\n",
    "        if (round(test_y) >= 0):\n",
    "            return phi\n",
    "        else:\n",
    "            return phi+math.pi\n",
    "    return None\n",
    "\n",
    "def getZrotationMatrix(phi):        \n",
    "        zRotatonMatrix = np.array([[math.cos(phi), -math.sin(phi), 0],\n",
    "                                   [math.sin(phi), math.cos(phi), 0],\n",
    "                                    [0, 0, 1]])\n",
    "        return zRotatonMatrix\n",
    "    \n",
    "def getYrotationMatrix(phi):        \n",
    "        yRotatonMatrix = np.array([[math.cos(phi), 0,  math.sin(phi)],\n",
    "                                   [0, 1, 0],\n",
    "                                   [-math.sin(phi), math.cos(phi), 0],\n",
    "                                    ])\n",
    "        return yRotatonMatrix\n",
    "    \n",
    "def getXrotationMatrix(phi):        \n",
    "        xRotatonMatrix = np.array([[1, 0, 0],\n",
    "                                    [0, math.cos(phi), -math.sin(phi)],\n",
    "                                    [0, math.sin(phi), math.cos(phi)],\n",
    "                                    ])\n",
    "        return xRotatonMatrix\n",
    "\n",
    "print(pN)\n",
    "pN_z = np.matmul(getZrotationMatrix(findPhi_z(pN)), pN)\n",
    "print(pN_z)\n",
    "pN_zx = np.matmul(getXrotationMatrix(findPhi_x(pN_z)), pN_z)\n",
    "#phi_x = findPhi_x(pN_z)\n",
    "#rot = \n",
    "#print()\n",
    "print(pN_zx)\n",
    "#print(calibrationMatrix)"
   ]
  },
  {
   "cell_type": "code",
   "execution_count": null,
   "metadata": {
    "collapsed": true
   },
   "outputs": [],
   "source": []
  }
 ],
 "metadata": {
  "kernelspec": {
   "display_name": "Python 2",
   "language": "python",
   "name": "python2"
  },
  "language_info": {
   "codemirror_mode": {
    "name": "ipython",
    "version": 2
   },
   "file_extension": ".py",
   "mimetype": "text/x-python",
   "name": "python",
   "nbconvert_exporter": "python",
   "pygments_lexer": "ipython2",
   "version": "2.7.11"
  }
 },
 "nbformat": 4,
 "nbformat_minor": 0
}
