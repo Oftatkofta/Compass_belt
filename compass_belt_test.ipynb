{
 "cells": [
  {
   "cell_type": "code",
   "execution_count": 2,
   "metadata": {
    "collapsed": true
   },
   "outputs": [],
   "source": [
    "%matplotlib inline"
   ]
  },
  {
   "cell_type": "code",
   "execution_count": 3,
   "metadata": {
    "collapsed": false
   },
   "outputs": [],
   "source": [
    "from __future__ import print_function\n",
    "import numpy as np\n",
    "import math\n",
    "import matplotlib.pyplot as plt\n",
    "from mpl_toolkits.mplot3d import Axes3D"
   ]
  },
  {
   "cell_type": "code",
   "execution_count": 66,
   "metadata": {
    "collapsed": false
   },
   "outputs": [
    {
     "name": "stdout",
     "output_type": "stream",
     "text": [
      "[[   0.  186.    0.]\n",
      " [  78.   22.   89.]\n",
      " [  20. -168.   -1.]\n",
      " [ -98.  -40.  -88.]]\n",
      "[[   0.  186.   -0.]\n",
      " [ 118.   22.   14.]\n",
      " [  14. -168.  -14.]\n",
      " [-132.  -40.    0.]]\n",
      "[[ 0.19910024 -0.73579509  0.64727481]\n",
      " [ 0.96998754  0.0538882  -0.23710807]\n",
      " [ 0.13958248  0.67505678  0.72444122]]\n",
      "[ 118.   22.   14.]\n",
      "1.38365965561\n"
     ]
    }
   ],
   "source": [
    "#raw data from sensor\n",
    "rawCalibrationMatrix = np.array([[311, 416, 279],\n",
    "                                 [178, 330, 404],\n",
    "                                 [-31, 377, 362],\n",
    "                                 [66, 501, 247]])\n",
    "\n",
    "\n",
    "\n",
    "#Subtract average of each coordinate, in order to center points arond origo\n",
    "centered_calibrationVector = np.mean(rawCalibrationMatrix, axis=0)\n",
    "calibrationMatrix = rawCalibrationMatrix - centered_calibrationVector\n",
    "\n",
    "#print(centered_calibrationVector)\n",
    "#calibrationMatrix = calibrationMatrix.astype(\"int16\")\n",
    "\n",
    "pN = calibrationMatrix[0]\n",
    "pE = calibrationMatrix[1]\n",
    "pS = calibrationMatrix[2]\n",
    "pW = calibrationMatrix[3]\n",
    "\n",
    "#print(pN, pE, pS, pW)\n",
    "\n",
    "def findPhi_z(pointVector):\n",
    "    \"\"\"\n",
    "    Rotates a point around the Z-axis, so that its\n",
    "    x-coordinate is 0 and y > 0.\n",
    "    \"\"\"\n",
    "    phi = -math.atan(-pointVector[0]/pointVector[1]) #n*pi-atan(-x/y)\n",
    "    test_y = np.matmul(getZrotationMatrix(phi), pointVector)[1]\n",
    "    if (test_y >= 0):\n",
    "        return phi\n",
    "    else:\n",
    "        return phi+math.pi\n",
    "\n",
    "def findPhi_x(pointVector):\n",
    "    \"\"\"\n",
    "    Rotates a point around the X-axis, so that its z-coorinate becomes 0,\n",
    "    and y > 0.\n",
    "    \"\"\"\n",
    "    phi = -math.atan(-pointVector[2]/pointVector[1]) #n*pi-atan(-x/y)  \n",
    "    test_y = np.matmul(getXrotationMatrix(phi), pointVector)[1]\n",
    "    if (round(test_y) >= 0):\n",
    "        return phi\n",
    "    else:\n",
    "        return phi+math.pi\n",
    "\n",
    "def findPhi_y(pointVector):\n",
    "    \"\"\"\n",
    "    Rotates a point around the Y-axis, so that its x-coordinate is negative,\n",
    "    and z=0.\n",
    "    \"\"\"\n",
    "    phi = -math.atan(-pointVector[2]/pointVector[0]) #n*pi-atan(-x/y)  \n",
    "    test_x = pointVector[0]*math.cos(phi) + pointVector[2]*math.sin(phi)\n",
    "    #test_x = np.matmul(getYrotationMatrix(phi), pointVector)[0]\n",
    "    if (test_x <= 0):\n",
    "        return phi\n",
    "    else:\n",
    "        return phi+math.pi\n",
    "    \n",
    "def getZrotationMatrix(phi):        \n",
    "        zRotatonMatrix = np.array([[math.cos(phi), -math.sin(phi), 0],\n",
    "                                   [math.sin(phi), math.cos(phi), 0],\n",
    "                                    [0, 0, 1]])\n",
    "        return zRotatonMatrix\n",
    "    \n",
    "def getYrotationMatrix(phi):        \n",
    "        yRotatonMatrix = np.array([[math.cos(phi), 0,  math.sin(phi)],\n",
    "                                   [0, 1, 0],\n",
    "                                   [-math.sin(phi), 0, math.cos(phi)],\n",
    "                                    ])\n",
    "        return yRotatonMatrix\n",
    "    \n",
    "def getXrotationMatrix(phi):        \n",
    "        xRotatonMatrix = np.array([[1, 0, 0],\n",
    "                                    [0, math.cos(phi), math.sin(phi)],\n",
    "                                    [0, -math.sin(phi), math.cos(phi)],\n",
    "                                    ])\n",
    "        return xRotatonMatrix\n",
    "\n",
    "def rotateMatrix(pointMatrix, rotationMatrix):\n",
    "    out = np.empty_like(pointMatrix)\n",
    "    for i in range(out.shape[0]):\n",
    "        out[i] = np.matmul(rotationMatrix, pointMatrix[i])\n",
    "    \n",
    "    return out\n",
    "    \n",
    "#print(np.around(calibrationMatrix))\n",
    "phi_z = findPhi_z(pN)\n",
    "pN_z = np.matmul(getZrotationMatrix(phi_z), pN)#.astype('int16')\n",
    "#print(pN_z)\n",
    "zRot = rotateMatrix(calibrationMatrix, getZrotationMatrix(phi_z))\n",
    "#print(np.around(zRot))\n",
    "phi_x = findPhi_x(pN_z)\n",
    "pN_zx = np.matmul(getXrotationMatrix(phi_x), pN_z)#.astype('int16')\n",
    "xRot = rotateMatrix(zRot, getXrotationMatrix(phi_x))\n",
    "print(np.around(xRot))      \n",
    "phi_y = findPhi_y(xRot[3])\n",
    "yRot = rotateMatrix(xRot, getYrotationMatrix(phi_y))\n",
    "print(np.around(yRot))\n",
    "transformationMatrix = np.linalg.multi_dot([getYrotationMatrix(phi_y), getXrotationMatrix(phi_x), getZrotationMatrix(phi_z)])\n",
    "print(transformationMatrix)\n",
    "tst = np.matmul(transformationMatrix, pE)\n",
    "print(np.around(tst))\n",
    "heading = math.atan(tst[0]/tst[1]) #atan(x/y)\n",
    "print(heading)"
   ]
  },
  {
   "cell_type": "code",
   "execution_count": 45,
   "metadata": {
    "collapsed": false
   },
   "outputs": [
    {
     "data": {
      "image/png": "[encoded data removed]",
      "text/plain": [
       "<matplotlib.figure.Figure at 0x10c697d50>"
      ]
     },
     "metadata": {},
     "output_type": "display_data"
    }
   ],
   "source": [
    "elevation, azim = 10, 45\n",
    "minval, maxval = -300, 300\n",
    "fig = plt.figure()\n",
    "ax = fig.add_subplot(111, projection='3d')\n",
    "#ax.scatter(rawCalibrationMatrix[:,0], rawCalibrationMatrix[:,1], rawCalibrationMatrix[:,2], c='r')\n",
    "#ax.plot(rawCalibrationMatrix[:,0], rawCalibrationMatrix[:,1], rawCalibrationMatrix[:,2], c='r')\n",
    "ax.scatter(calibrationMatrix[:,0], calibrationMatrix[:,1], calibrationMatrix[:,2])\n",
    "ax.plot(calibrationMatrix[:,0], calibrationMatrix[:,1], calibrationMatrix[:,2])\n",
    "ax.scatter(zRot[:,0], zRot[:,1], zRot[:,2], c='r')\n",
    "ax.plot(zRot[:,0], zRot[:,1], zRot[:,2], c='r')\n",
    "ax.scatter(xRot[:,0], xRot[:,1], xRot[:,2], c='g')\n",
    "ax.plot(xRot[:,0], xRot[:,1], xRot[:,2], c='g')\n",
    "ax.scatter(yRot[:,0], yRot[:,1], yRot[:,2], c='black')\n",
    "ax.plot(yRot[:,0], yRot[:,1], yRot[:,2], c='black')\n",
    "\n",
    "ax.view_init(elev=elevation, azim=azim)\n",
    "ax.set_xlim3d(minval, maxval)\n",
    "ax.set_ylim3d(minval, maxval)\n",
    "ax.set_zlim3d(minval, maxval)\n",
    "\n",
    "fig.show()\n"
   ]
  },
  {
   "cell_type": "markdown",
   "metadata": {
    "collapsed": true
   },
   "source": [
    "### "
   ]
  }
 ],
 "metadata": {
  "kernelspec": {
   "display_name": "Python 2",
   "language": "python",
   "name": "python2"
  },
  "language_info": {
   "codemirror_mode": {
    "name": "ipython",
    "version": 2
   },
   "file_extension": ".py",
   "mimetype": "text/x-python",
   "name": "python",
   "nbconvert_exporter": "python",
   "pygments_lexer": "ipython2",
   "version": "2.7.11"
  }
 },
 "nbformat": 4,
 "nbformat_minor": 0
}
